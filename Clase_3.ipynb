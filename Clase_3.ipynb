{
  "nbformat": 4,
  "nbformat_minor": 0,
  "metadata": {
    "colab": {
      "name": "Clase 3.ipynb",
      "version": "0.3.2",
      "provenance": [],
      "collapsed_sections": []
    },
    "kernelspec": {
      "name": "python3",
      "display_name": "Python 3"
    }
  },
  "cells": [
    {
      "metadata": {
        "id": "tcEGhicjG_kF",
        "colab_type": "text"
      },
      "cell_type": "markdown",
      "source": [
        "# Teleportación cuántica como un circuito cuántico\n",
        "\n",
        "*comandos de LaTeX:*\n",
        "\n",
        "$$\\newcommand{\\ket}[1]{\\left|{#1}\\right\\rangle}$$\n",
        "$$\\newcommand{\\bra}[1]{\\left\\langle{#1}\\right|}$$\n",
        "$$\\newcommand{\\braket}[2]{\\left\\langle{#1}\\middle|{#2}\\right\\rangle}$$"
      ]
    },
    {
      "metadata": {
        "id": "TOkE6MppHGjM",
        "colab_type": "text"
      },
      "cell_type": "markdown",
      "source": [
        "## Estados entrelazados\n",
        "\n",
        "Considérese, por ejemplo, el estado \n",
        "\n",
        "$$\n",
        "\\ket{\\varphi} = c_1 \\ket{1 0} + c_2 \\ket{1 1} \n",
        "$$\n",
        "\n",
        "Este estado estado puede ser escrito como:\n",
        "\n",
        "$$\n",
        "\\ket{\\varphi} = \\ket{1} \\otimes (c_1 \\ket{0} + c_2 \\ket{1} )\n",
        "$$\n",
        "\n",
        "$$\n",
        "\\ket{\\varphi} = \\ket{\\varphi_1} \\otimes \\ket{\\varphi_2}\n",
        "$$\n",
        "\n",
        "Donde $ \\ket{\\varphi_1}  = \\ket{1}$ y $ \\ket{\\varphi_2} = c_1 \\ket{0} + c_2 \\ket{1})$. Esto implica que este estado puede ser escrito como el producto tensorial entre dos estados pertenecientes a dos espacios de hilbert $\\mathcal{H_1}$ y $\\mathcal{H_2}$ distintos. Este tipo de estados se conocen como  **estados separables** o **estados factorizables**, dado que pueden ser factorizados tensorialmente. Considérese ahora el estado:\n",
        "\n",
        "$$\n",
        "\\ket{\\psi} = c_1 \\ket{1 0} + c_2 \\ket{0 1} \n",
        "$$ \n",
        "\n",
        "A diferencia del estado anterior, éste no puede ser factorizado en el producto tensorial de dos estados pertenecientes a espacios de Hilbert distintos. Este tipo de estados se conocen como **estados entrelazados**.\n",
        "\n",
        "## La base de Bell\n",
        "\n",
        "La **base de Bell** o **estados de Bell** son estados cuánticos de dos qubits, máximante entrelazados. 'Estos son:\n",
        "\n",
        "$$\n",
        "\\ket{\\Phi^+} = \\frac{1}{\\sqrt{2}}(\\ket{00} + \\ket{11})\n",
        "$$\n",
        "\n",
        "$$\n",
        "\\ket{\\Phi^-} = \\frac{1}{\\sqrt{2}}(\\ket{00} - \\ket{11})\n",
        "$$\n",
        "\n",
        "$$\n",
        "\\ket{\\Psi^+} = \\frac{1}{\\sqrt{2}}(\\ket{01} + \\ket{10})\n",
        "$$\n",
        "\n",
        "$$\n",
        "\\ket{\\Psi^-} = \\frac{1}{\\sqrt{2}}(\\ket{01} - \\ket{10})\n",
        "$$\n",
        "\n",
        "Estos estados también se conocen como  **pares EPR**.\n",
        "\n",
        "## Teleportación cuántica\n",
        "\n",
        "La teleportación cuántica es una técnica para \"enviar\" estados cuánticos, aún en la ausencia de un canal de comunicación cuántico que enlace el emisor con el receptor.\n",
        "\n",
        "Imagínese que Alice y Bob se conocieron hace un tiempo en el mismo lugar pero ahora viven en ubicaciones separadas.\n",
        "\n",
        "Mientras estaban juntos, generaron un par entrelazado EPR, y cada uno se llevó un qubit del par EPR cuando se separaron. Muchos años después, Bob se está escondiendo, y la misión de Alice es enviar un qubit $\\ket{\\psi}$ a Bob.  Ella no sabe el estado del qubit, y peor aún, sólo puede enviar información clásica a Bob.\n",
        "\n",
        "Intuitivamente, Alice tiene una misión complicada por delante. Ella no sabe cuál es el estado  $\\ket{\\psi}$ del qubit que debe mandar a Bob, y el colapso de la función de onda no le permite determinarlo sin alterarlo. Peor aún, aunque conociera el estado $\\ket{\\psi}$, describirlo exactamente le tomaría una cantidad infinita de información clásica, dado que $\\ket{\\psi}$ toma valores en un espacio continuo, y por ender necesitaría un tiempo igualmente infinito para describirlo.\n",
        "\n",
        "Afortunadamente para Alice, la *teleportación cuántica* es una manera de utilizar pares entrelazados EPR para enviar $\\ket{\\psi}$ a Bob, con una pequeña necesidad de información clásica. \n",
        "\n",
        "Resumidamente, los pasos de esta solución son los siguientes:\n",
        "\n",
        "1. Alice interactúa su qubit $\\ket{\\psi}$ con su mitad del par EPR\n",
        "\n",
        "2. Alice mide los dos qubits que tiene en su posesión, obteniendo como posible resultado uno de los bits clásicos $00$, $01$, $10$, $11$.\n",
        "\n",
        "3. Alice envía esta información a Bob por un canal cásico.\n",
        "\n",
        "4. Dependiendo del mensaje de Alice, Bob lleva a cabo una de cuatro operaciones en su mitad del par EPR.\n",
        "\n",
        "Haciendo esto, Bob recupera el estado $\\ket{\\psi}$.\n",
        "\n",
        "Este proceso se condensa en el siguiente circuito cuántico:\n",
        "\n",
        "\n"
      ]
    },
    {
      "metadata": {
        "id": "zntU-H0Iq6q1",
        "colab_type": "text"
      },
      "cell_type": "markdown",
      "source": [
        "![telecircuit](https://i.imgur.com/qSjMTX2.png)\n",
        "\n",
        "#### <center>Figura 1: La primera línea representa el qubit que Alice desea enviar, la segunda es el qubit EPR de Alice y la tercera el qubit EPR de Bob. $M_1$ y $M_2$ son los resultados de las mediciones sobre los qubits de Alice y $X^{M_2}$, $Z^{M_1}$ las compuertas lógicas. Si alguna de las mediciones es cero, su respectiva compuerta se reduce a la identidad debido al exponente nulo. <center>"
      ]
    },
    {
      "metadata": {
        "id": "8gGSmgR4q_Wt",
        "colab_type": "text"
      },
      "cell_type": "markdown",
      "source": [
        "El estado a teleportar es $\\ket{\\psi} = \\alpha \\ket{0} + \\beta \\ket{1}$, donde $\\alpha$ y $\\beta$ son amplitudes desconocidas. El estado de input $\\ket{\\psi_0}$ es entonces:\n",
        "\n",
        "$$\n",
        "\\ket{\\psi_0} = \\ket{\\psi} \\ket{\\beta_{00}}\n",
        "$$\n",
        "$$\n",
        "\\ket{\\psi_0} = \\frac{1}{\\sqrt{2}} [ \\alpha \\ket{0} (\\ket{00} + \\ket{11}) + \\beta \\ket{1} (\\ket{00} + \\ket{11}) ]\n",
        "$$\n",
        "\n",
        "Donde se asumió  por simplicidad que $\\ket{\\beta_{00}}$ es el primer par EPR definido aquí:\n",
        "\n",
        "$$\\ket{\\beta_{00}} = \\frac{1}{\\sqrt{2}}(\\ket{00} + \\ket{11})$$\n",
        "\n",
        "Alice envía sus qubits hacia una compuerta CNOT, obteniendo:\n",
        "\n",
        "$$\n",
        "\\ket{\\psi_1} = \\frac{1}{\\sqrt{2}} [ \\alpha \\ket{0} (\\ket{00} + \\ket{11}) + \\beta \\ket{1} (\\ket{10} + \\ket{01}) ]\n",
        "$$\n",
        "\n",
        "Y este nuevo estado lo envía hacia una compuerta Haddamard, obteniendo:\n",
        "\n",
        "$$\n",
        "\\ket{\\psi_2} = \\frac{1}{{2}} [ \\alpha (\\ket{0} + \\ket{1})(\\ket{00} + \\ket{11})  + \\beta (\\ket{0} - \\ket{1})(\\ket{10} + \\ket{01}) ]\n",
        "$$\n",
        "\n",
        "Este estado se puede reescribir como:\n",
        "\n",
        "$$\n",
        "\\ket{\\psi_2} = \\frac{1}{{2}} [\\ket{00} (\\alpha \\ket{0} + \\beta \\ket{1}) + \\ket{01} (\\alpha \\ket{1} + \\beta \\ket{0}) + \\ket{10} (\\alpha \\ket{0} - \\beta \\ket{1}) + \\ket{11} (\\alpha \\ket{1} - \\beta \\ket{0})  ]\n",
        "$$\n",
        "\n",
        "Esta factorización parcial permite determinar el estado de Bob a partir de las mediciones de Alice. Por ejemplo, si Alice mide $\\ket{00}$, es inmediato que el qubit EPR inicial de Bob pasa a ser el estado a enviar $\\ket{\\psi_0}$, completándose así el proceso de teleportación cuántica. En general para los cuatro casos posibles se tiene:\n",
        "\n",
        "- $00 \\longmapsto [\\alpha \\ket{0} + \\beta \\ket{1}]  \\longmapsto \\text{Identidad}$ \n",
        "\n",
        "- $01 \\longmapsto [\\alpha \\ket{1} + \\beta \\ket{0}]  \\longmapsto \\text{NOT (Pauli X)}$ \n",
        "\n",
        "- $10 \\longmapsto [\\alpha \\ket{0} - \\beta \\ket{1}]  \\longmapsto \\text{Pauli Z}$ \n",
        "\n",
        "- $11 \\longmapsto [\\alpha \\ket{1} - \\beta \\ket{0}]  \\longmapsto \\text{Pauli X y luego Z}$ \n",
        "\n",
        "Donde la primera columna es la medición de Alice, la segunda el estado al que colapsa el qubit de Bob tras la medición de Alice y la tercera, la compuerta lógica que debe ser aplicada al nuevo qubit de Bob para recuperar el estado $\\ket{\\psi_0}$ enviado por Alice."
      ]
    },
    {
      "metadata": {
        "id": "Wud89BCwVS0z",
        "colab_type": "text"
      },
      "cell_type": "markdown",
      "source": [
        "## Simulación del circuito de teleportación cuántica "
      ]
    },
    {
      "metadata": {
        "id": "HpUhj3m8-Rqw",
        "colab_type": "text"
      },
      "cell_type": "markdown",
      "source": [
        "Recordemos nuestra base de dos qubits:\n",
        "\n",
        "$$ \\ket{00} = (1,0,0,0)$$\n",
        "$$ \\ket{01} = (0,1,0,0)$$\n",
        "$$ \\ket{10} = (0,0,1,0)$$\n",
        "$$ \\ket{01} = (0,0,0,1)$$\n",
        "\n",
        "Y nuestra base de tres qubits:\n",
        "\n",
        "$$ \\ket{000} = (1,0,0,0,0,0,0,0)$$\n",
        "$$ \\ket{001} = (0,1,0,0,0,0,0,0)$$\n",
        "$$ \\ket{010} = (0,0,1,0,0,0,0,0)$$\n",
        "$$ \\ket{011} = (0,0,0,1,0,0,0,0)$$\n",
        "$$ \\ket{100} = (0,0,0,0,1,0,0,0)$$\n",
        "$$ \\ket{101} = (0,0,0,0,0,1,0,0)$$\n",
        "$$ \\ket{110} = (0,0,0,0,0,0,1,0)$$\n",
        "$$ \\ket{111} = (0,0,0,0,0,0,0,1)$$"
      ]
    },
    {
      "metadata": {
        "id": "a87UtmI6_DBV",
        "colab_type": "code",
        "colab": {}
      },
      "cell_type": "code",
      "source": [
        "#Carga de librerías\n",
        "import sympy\n",
        "import numpy as np\n",
        "from math  import sqrt\n",
        "from sympy import *\n",
        "from sympy.physics.quantum import TensorProduct"
      ],
      "execution_count": 0,
      "outputs": []
    },
    {
      "metadata": {
        "id": "7O5mAARe4Snw",
        "colab_type": "code",
        "colab": {}
      },
      "cell_type": "code",
      "source": [
        "def custom_latex_printer(exp,**options):\n",
        "    from google.colab.output._publish import javascript\n",
        "    url = \"https://cdnjs.cloudflare.com/ajax/libs/mathjax/2.7.3/latest.js?config=default\"\n",
        "    javascript(url=url)\n",
        "    return sympy.printing.latex(exp,**options)\n",
        "init_printing(use_latex=\"mathjax\",latex_printer=custom_latex_printer)"
      ],
      "execution_count": 0,
      "outputs": []
    },
    {
      "metadata": {
        "id": "77F6j0HR4WHQ",
        "colab_type": "code",
        "colab": {}
      },
      "cell_type": "code",
      "source": [
        "#definimos nuestra base de 1 qubit y las compuertas lógicas necesarias\n",
        "\n",
        "cero = Matrix([[1],\n",
        "               [0]])\n",
        "\n",
        "uno  = Matrix([[0],\n",
        "               [1]])\n",
        "\n",
        "H = Matrix([[1 ,  1],\n",
        "            [1 , -1]]) #* (1 / math.sqrt(2))\n",
        "\n",
        "CNOT =   Matrix([[1,0,0,0],\n",
        "                 [0,1,0,0],\n",
        "                 [0,0,0,1],\n",
        "                 [0,0,1,0]])\n",
        "\n",
        "I2 =   Matrix([[1 , 0],\n",
        "               [0 , 1]])\n",
        "\n",
        "PauliZ = Matrix([[1 , 0],\n",
        "                 [0 ,-1]]) #* (1 / math.sqrt(2))\n",
        "\n",
        "PauliX = Matrix([[0 , 1],\n",
        "                 [1 , 0]]) #* (1 / math.sqrt(2))"
      ],
      "execution_count": 0,
      "outputs": []
    },
    {
      "metadata": {
        "id": "aeqdxHVs-SQ5",
        "colab_type": "code",
        "outputId": "a1f77d2d-fd2c-4316-ec36-5ee8a63fe862",
        "colab": {
          "base_uri": "https://localhost:8080/",
          "height": 90
        }
      },
      "cell_type": "code",
      "source": [
        "### definimos las compuertas lógicas del circuito previo a la medición\n",
        "\n",
        "GATE1 = TensorProduct(CNOT,I2)\n",
        "GATE2 = TensorProduct(H,I2,I2)\n",
        "\n",
        "### Los vectores de input son:\n",
        "\n",
        "# El qubit que Alice quiere enviar\n",
        "a,b = symbols('a b')\n",
        "ALICE = a*cero + b*uno\n",
        "\n",
        "# El par EPR que Alice y Bob Comparten\n",
        "EPR =  Matrix([[1],[0],[0],[0]]) + Matrix([[0],[0],[0],[1]])\n",
        "\n",
        "# El producto tensorial de ambos\n",
        "INPUT = TensorProduct(ALICE,EPR)\n",
        "\n",
        "### El output de nuestro circuito previo a la medición es\n",
        "\n",
        "OUTPUT1 = GATE2*GATE1*INPUT\n",
        "\n",
        "### Alice procede a medir su qubit a enviar y su qubit del par EPR\n",
        "\n",
        "measure =  str(np.random.randint(2)) + str(np.random.randint(2))\n",
        "\n",
        "print('Alice midió los bits clásicos:',measure, 'y le comunicó esta medición a Bob mediante un canal clásico')\n",
        "\n",
        "### Esta medición colapsa la función de onda del sistema, pero la derivación analítica\n",
        "### nos indica qué debe hacer Bob sobre su qubit dependiendo de cada uno de las cuatro\n",
        "### mediciones posibles para Alice.\n",
        "\n",
        "if measure == '00':\n",
        "  print('El qubit de Bob colapsó a:', OUTPUT1[0],'|0> + ', OUTPUT1[1], '|1>' )\n",
        "  GATE3 = TensorProduct(I2,I2,I2)\n",
        "  OUTPUT2 = GATE3*OUTPUT1\n",
        "  print('Bob tiene ahora el estado inicial de Alice:', OUTPUT2[0],'|0> + ', OUTPUT2[1], '|1>' )\n",
        "\n",
        "elif measure == '01':\n",
        "  print('El qubit de Bob colapsó a:', OUTPUT1[2],'|0> + ', OUTPUT1[3], '|1>' )\n",
        "  GATE3 = TensorProduct(I2,I2,PauliX)\n",
        "  OUTPUT2 = GATE3*OUTPUT1\n",
        "  print('Bob aplicó a su qubit la compuerta X')\n",
        "  print('Bob tiene ahora el estado inicial de Alice:', OUTPUT2[2],'|0> + ', OUTPUT2[3], '|1>' )\n",
        "    \n",
        "elif measure == '10':\n",
        "  print('El qubit de Bob colapsó a:', OUTPUT1[4],'|0> + ', OUTPUT1[5], '|1>' )\n",
        "  GATE3 = TensorProduct(I2,I2,PauliZ)\n",
        "  OUTPUT2 = GATE3*OUTPUT1\n",
        "  print('Bob aplicó a su qubit la compuerta Z')\n",
        "  print('Bob tiene ahora el estado inicial de Alice:', OUTPUT2[4],'|0> + ', OUTPUT2[5], '|1>' )\n",
        "    \n",
        "elif measure == '11':\n",
        "  print('El qubit de Bob colapsó a:', OUTPUT1[6],'|0> + ', OUTPUT1[7], '|1>' )\n",
        "  GATE3 = TensorProduct(I2,I2,PauliZ)*TensorProduct(I2,I2,PauliX)\n",
        "  OUTPUT2 = GATE3*OUTPUT1\n",
        "  print('Bob aplicó a su qubit la compuerta X y luego la compuerta Z')\n",
        "  print('Bob tiene ahora el estado inicial de Alice:', OUTPUT2[6],'|0> + ', OUTPUT2[7], '|1>' )"
      ],
      "execution_count": 0,
      "outputs": [
        {
          "output_type": "stream",
          "text": [
            "Alice midió los bits clásicos: 10 y le comunicó esta medición a Bob mediante un canal clásico\n",
            "El qubit de Bob colapsó a: a |0> +  -b |1>\n",
            "Bob aplicó a su qubit la compuerta Z\n",
            "Bob tiene ahora el estado inicial de Alice: a |0> +  b |1>\n"
          ],
          "name": "stdout"
        }
      ]
    },
    {
      "metadata": {
        "id": "64ZJ9kJdW986",
        "colab_type": "text"
      },
      "cell_type": "markdown",
      "source": [
        "## Teleportación cuántica y comunicación superlumínica\n",
        "\n",
        "Cuando dos qubits están entrelazados como en el caso del par EPR que Alice y Bob comparten, éstos se encuentran \"conectados\" físicamente, independientemente de la distancia entre ambos. Esto implica que la medición de uno de los qubits del par entrelazado colapsa la función de onda del sistema completo, alterando remotamente el otro qubit. \n",
        "\n",
        "En principio, este colapso remoto puede ser un medio para transmitir información a una distancia arbitraria y de manera instantánea. Sin embargo, la tranmisión de información *útil* sólo se da en el momento en el que Alice comunica a Bob su medición, y éste aplica una compuerta lógica a su estado en función de lo obtenido por Alice. Esta comunicación sólo se puede dar por un canal clásico, el cuál está sujeto a las limitaciones de la teoría de la relatividad."
      ]
    }
  ]
}