{
  "nbformat": 4,
  "nbformat_minor": 0,
  "metadata": {
    "colab": {
      "name": "complexExponential.ipynb",
      "version": "0.3.2",
      "provenance": [],
      "collapsed_sections": []
    },
    "kernelspec": {
      "display_name": "Python 3",
      "language": "python",
      "name": "python3"
    }
  },
  "cells": [
    {
      "metadata": {
        "id": "iSsaRkVpdnWs",
        "colab_type": "text"
      },
      "cell_type": "markdown",
      "source": [
        "# La exponencial compleja\n",
        "\n",
        "- Jupyter notebook por David Ricardo Vivas Ordóñez\n",
        "- Práctica en investigación 1\n",
        "- Profesor Victor Bucheli"
      ]
    },
    {
      "metadata": {
        "scrolled": true,
        "id": "VD8HqNGxdnWx",
        "colab_type": "code",
        "colab": {}
      },
      "cell_type": "code",
      "source": [
        "import numpy as np\n",
        "import scipy.special\n",
        "from scipy.special import factorial as vFactorial      # función factorial que recibe vectores como argumentos\n",
        "import matplotlib.pyplot as plt\n",
        "import timeit"
      ],
      "execution_count": 0,
      "outputs": []
    },
    {
      "metadata": {
        "id": "Dim9esCmdnW7",
        "colab_type": "code",
        "colab": {}
      },
      "cell_type": "code",
      "source": [
        "# pequeña función para mostrar números complejos más legibles\n",
        "def printComplex(w):\n",
        "    w = np.round(w,3)\n",
        "    a = np.real(w)\n",
        "    b = np.imag(w)\n",
        "    print(a,\" + \", b,\"j\")\n",
        "    return "
      ],
      "execution_count": 0,
      "outputs": []
    },
    {
      "metadata": {
        "id": "e7pTR13adnXC",
        "colab_type": "text"
      },
      "cell_type": "markdown",
      "source": [
        "La librería numpy de python posee una implementación de números complejos por defecto. Para definir un número complejo $x$ en numpy se usa la sintaxis:"
      ]
    },
    {
      "metadata": {
        "id": "BRsY9TqydnXF",
        "colab_type": "code",
        "colab": {}
      },
      "cell_type": "code",
      "source": [
        "x = 3 + 2j      #Número complejo de parte real 3 y parte imaginaria 2"
      ],
      "execution_count": 0,
      "outputs": []
    },
    {
      "metadata": {
        "id": "SxwzZCIGdnXL",
        "colab_type": "text"
      },
      "cell_type": "markdown",
      "source": [
        "Comos se puede observar, en numpy la unidad imaginaria se denota por la letra $j$. Esta notación es común en ingenierías, a diferencia de las ciencias exactas en las que se acostumbra a usar la letra $i$. Aquí usaremos la letra $i$ para mayor compatibilidad con los textos de mecánica cuántica y computación cuántica."
      ]
    },
    {
      "metadata": {
        "id": "WRC6boQRdnXN",
        "colab_type": "text"
      },
      "cell_type": "markdown",
      "source": [
        "### La exponencial compleja\n",
        "\n",
        "\n",
        "Algunas funciones reales se extienden a los números complejos mediante su serie de potencias análoga. En particular,\n",
        "la función exponencial de un número complejo z se define como:\n",
        "\n",
        "$$\n",
        "e^z = \\sum_{k=0}^{\\infty} \\frac{z^k}{k!} \n",
        "$$\n",
        "\n",
        "Calculemos entonces la exponencial de un número mediante su definición como serie de potencias:"
      ]
    },
    {
      "metadata": {
        "id": "vWC_jAhVdnXP",
        "colab_type": "code",
        "colab": {}
      },
      "cell_type": "code",
      "source": [
        "# implementación con loop\n",
        "\n",
        "def complexExponentialLoop(z, k=50):            # k es el orden hasta el cuál se va a calcular la serie de taylor\n",
        "     \n",
        "    zTaylor = 0;\n",
        "       \n",
        "    for k in range(0,k+1):\n",
        "        zTaylor += np.power(z,k) / vFactorial(k)\n",
        "            \n",
        "    return zTaylor"
      ],
      "execution_count": 0,
      "outputs": []
    },
    {
      "metadata": {
        "id": "IASB1ITYdnXU",
        "colab_type": "text"
      },
      "cell_type": "markdown",
      "source": [
        "Ya podemos llamar nuestra exponencial compleja:"
      ]
    },
    {
      "metadata": {
        "id": "q_zowgv_dnXW",
        "colab_type": "code",
        "outputId": "c4a2b69a-e605-4fd6-e679-e446a0bcc7f7",
        "colab": {
          "base_uri": "https://localhost:8080/",
          "height": 35
        }
      },
      "cell_type": "code",
      "source": [
        "z = 0 + (np.pi/2)*(1j)\n",
        "zExp = complexExponentialLoop(z, k=50)\n",
        "printComplex(zExp)"
      ],
      "execution_count": 0,
      "outputs": [
        {
          "output_type": "stream",
          "text": [
            "0.0  +  1.0 j\n"
          ],
          "name": "stdout"
        }
      ]
    },
    {
      "metadata": {
        "id": "v9ueezKPdnXh",
        "colab_type": "text"
      },
      "cell_type": "markdown",
      "source": [
        "### Implementación vectorizada de la exponencial compleja\n",
        "\n",
        "La librería numpy nos permite implementar funciones como la exponencial compleja mediante operaciones directas entre vectores, a modo de reducir el tiempo de cómputo en relación a un loop:"
      ]
    },
    {
      "metadata": {
        "id": "HLjKwv6TdnXj",
        "colab_type": "code",
        "colab": {}
      },
      "cell_type": "code",
      "source": [
        "# implementación vectorizada\n",
        "\n",
        "def complexExponentialVec(z, k=50):             # k es el orden hasta el cuál se va a calcular la serie de taylor\n",
        "    \n",
        "    index = np.linspace(0, k, num=k+1)          # vector de índices, para facilitar una implementación vectorizada\n",
        "    \n",
        "    taylorSeries = np.power(z,index) / vFactorial(index)             \n",
        "    zTaylor = np.sum(taylorSeries)\n",
        "    \n",
        "    return zTaylor"
      ],
      "execution_count": 0,
      "outputs": []
    },
    {
      "metadata": {
        "id": "P44prvHudnXp",
        "colab_type": "text"
      },
      "cell_type": "markdown",
      "source": [
        "La diferencia de rendimiento es más notable entre más grande sea el orden de la aproximación:"
      ]
    },
    {
      "metadata": {
        "id": "N_68o3rVdnXs",
        "colab_type": "code",
        "outputId": "0568c1b2-c7fb-4d22-bc8f-3a1f193c2c60",
        "colab": {
          "base_uri": "https://localhost:8080/",
          "height": 109
        }
      },
      "cell_type": "code",
      "source": [
        "start = timeit.default_timer()\n",
        "z = complexExponentialVec(3 + (np.pi/3)*1j,200)\n",
        "stop = timeit.default_timer()\n",
        "loopTime = stop-start\n",
        "\n",
        "print('Vector implementation runtime: ', loopTime)  \n",
        "printComplex(z)\n",
        "\n",
        "start = timeit.default_timer()\n",
        "w = complexExponentialLoop(3 + (np.pi/3)*1j,200)\n",
        "stop = timeit.default_timer()\n",
        "vecTime = stop-start\n",
        "\n",
        "print('Loop implementation runtime: ', vecTime)  \n",
        "printComplex(w)\n",
        "\n",
        "print(\"La implementación vectorizada es\", vecTime/loopTime, \"veces más rápida que la implementación en loop\")"
      ],
      "execution_count": 0,
      "outputs": [
        {
          "output_type": "stream",
          "text": [
            "Vector implementation runtime:  0.0004384630000018319\n",
            "10.043  +  17.395 j\n",
            "Loop implementation runtime:  0.002223699000005297\n",
            "10.043  +  17.395 j\n",
            "La implementación vectorizada es 5.071577305259523 veces más rápida que la implementación en loop\n"
          ],
          "name": "stdout"
        }
      ]
    },
    {
      "metadata": {
        "id": "CkyMqIjLdnYA",
        "colab_type": "text"
      },
      "cell_type": "markdown",
      "source": [
        "### La identidad de Euler\n",
        "\n",
        "Centrémonos ahora en el caso particular $e^{ {i}x }$ con $x$ un número real, la serie de potencias es:\n",
        "\n",
        "$$\n",
        "e^{{i} x} = \\sum_{k=0}^{\\infty} \\frac{{({i} x)}^k}{k!}\n",
        "$$\n",
        "\n",
        "Usando la propiedad $i^2 = -1$ y reordenando índices, se puede escribir:\n",
        "\n",
        "$$\n",
        "e^{{i} x} = \\sum_{k=0}^{\\infty} \\frac{{({i} x)}^k}{k!} = \\sum_{k=0}^{\\infty} \\frac{{({{-1)}^k {x}^{2k}}}}{(2k)!} + {i} \\sum_{k=0}^{\\infty} \\frac{(-1)^k x^{2k+1}}{(2k+1)!}\n",
        "$$\n",
        "\n",
        "Sin embargo, recordemos que seno y coseno se definen en términos de sus series de potencias como:\n",
        "\n",
        "$$\n",
        "\\sin(x) = \\sum_{k=0}^{\\infty} \\frac{(-1)^k x^{2k+1}}{(2k+1)!}\n",
        "$$\n",
        "\n",
        "$$\n",
        "\\cos(x) = \\sum_{k=0}^{\\infty} \\frac{{({{-1)}^k {x}^{2k}}}}{(2k)!}\n",
        "$$\n",
        "\n",
        "Podemos escribir entonces:\n",
        "$$\n",
        "e^{i x} = \\cos{x} + {i} \\sin{x}\n",
        "$$\n",
        "\n",
        "La última igualdad obtenida es conocida como la *fórmula de Euler*, y es uno de los resultados más importantes de la matemática. Para un número complejo $z = a + b i$ cualquiera, se tiene:\n",
        "\n",
        "$$\n",
        "e^{z} = e^{a + b i} = e^{a} e^{b i} = e^{a}( \\cos{x} + {i} \\sin{x} )\n",
        "$$\n",
        "\n",
        "A simple vista la fórmula de Euler parece poco más que un resultado curioso; pero esta identidad es en gran parte la responsable de las propiedades extrañas pero útiles que exhiben los números complejos. \n",
        "\n",
        "Implementemos ahora la fórmula de Euler:"
      ]
    },
    {
      "metadata": {
        "id": "LObOfIgOdnYB",
        "colab_type": "code",
        "colab": {}
      },
      "cell_type": "code",
      "source": [
        "def eulerIdentity(z):\n",
        "    \n",
        "    zReal = np.real(z)\n",
        "    zArgument = np.imag(z)\n",
        "    zEuler = np.exp(zReal)*(np.cos(zArgument) + np.sin(zArgument)*1j)    \n",
        "    \n",
        "    return zEuler"
      ],
      "execution_count": 0,
      "outputs": []
    },
    {
      "metadata": {
        "id": "ioIkHNUYdnYF",
        "colab_type": "text"
      },
      "cell_type": "markdown",
      "source": [
        "Probemos nuestra función:"
      ]
    },
    {
      "metadata": {
        "id": "5ICpWL2bdnYG",
        "colab_type": "code",
        "outputId": "cde41b55-4d1a-4189-b74f-e6db82127105",
        "colab": {
          "base_uri": "https://localhost:8080/",
          "height": 35
        }
      },
      "cell_type": "code",
      "source": [
        "z = 0 + (np.pi/2)*(1j)\n",
        "zEuler = eulerIdentity(0 + (np.pi/2)*(1j))\n",
        "printComplex(zEuler)"
      ],
      "execution_count": 0,
      "outputs": [
        {
          "output_type": "stream",
          "text": [
            "0.0  +  1.0 j\n"
          ],
          "name": "stdout"
        }
      ]
    },
    {
      "metadata": {
        "id": "M1ViDHAcdnYP",
        "colab_type": "text"
      },
      "cell_type": "markdown",
      "source": [
        "Podemos verificar esta identidad usando nuestra propia implementación de la exponencial compleja:"
      ]
    },
    {
      "metadata": {
        "id": "7gW6_OaNdnYR",
        "colab_type": "code",
        "outputId": "ed3cdf43-6092-454a-80ae-ede6e2065608",
        "colab": {
          "base_uri": "https://localhost:8080/",
          "height": 90
        }
      },
      "cell_type": "code",
      "source": [
        "z = 0 + (np.pi/2)*(1j)\n",
        "\n",
        "zExp = complexExponentialVec(z, 100)\n",
        "print(\"La exponencial compleja da como resultado:\")\n",
        "printComplex(zExp)\n",
        "\n",
        "zEuler = eulerIdentity(z)\n",
        "print(\"La identidad de Euler da como resultado:\")\n",
        "printComplex(zEuler)"
      ],
      "execution_count": 0,
      "outputs": [
        {
          "output_type": "stream",
          "text": [
            "La exponencial compleja da como resultado:\n",
            "0.0  +  1.0 j\n",
            "La identidad de Euler da como resultado:\n",
            "0.0  +  1.0 j\n"
          ],
          "name": "stdout"
        }
      ]
    },
    {
      "metadata": {
        "id": "A-HhJ3qtdnYY",
        "colab_type": "text"
      },
      "cell_type": "markdown",
      "source": [
        "### Representación polar de un número complejo\n",
        "\n",
        "Al igual que un vector en el plano cartesiano, un número complejo arbitrario se puede escribir en coordenadas polares como:\n",
        "\n",
        "$$\n",
        "z = a + bi = r( \\cos \\theta + i \\sin \\theta )\n",
        "$$\n",
        "\n",
        "Donde $r = |z|$  es el radio del número complejo en coordenadas polares y $\\theta = \\arctan( \\frac{b}{a} )$ es el ángulo del número complejo respecto al eje real. Como se habrá podido notar, la fórmula de Euler nos permite abreviar la representación polar de un número complejo como:\n",
        "\n",
        "$$\n",
        "z = r e^{i \\theta}\n",
        "$$\n",
        "\n",
        "Y el cálculo de esta expresión nos arroja la representación explícita del número complejo en términos de sus componentes real e imaginaria. Con esta información podemos programar fácilmente una transformación de coordenadas de números complejos a su representación polar $(r,\\theta)$:"
      ]
    },
    {
      "metadata": {
        "id": "e__C4b5adnYa",
        "colab_type": "code",
        "colab": {}
      },
      "cell_type": "code",
      "source": [
        "def complexToPolar(z):\n",
        "    \n",
        "    a = np.real(z)\n",
        "    b = np.imag(z)   \n",
        "    if a==0 and b>0:\n",
        "        theta=np.pi/2;\n",
        "    elif a==0 and b<0:\n",
        "        theta=-np.pi/2;\n",
        "    else:\n",
        "        theta = np.arctan(b/a)\n",
        "    r = np.sqrt(a*a + b*b)\n",
        "    zPolar = [r,theta]\n",
        "    return zPolar\n",
        "    "
      ],
      "execution_count": 0,
      "outputs": []
    },
    {
      "metadata": {
        "id": "gD6apHgCdnYe",
        "colab_type": "code",
        "outputId": "ba1b524c-c479-4d9d-c5ae-2d41eb8ee327",
        "colab": {
          "base_uri": "https://localhost:8080/",
          "height": 35
        }
      },
      "cell_type": "code",
      "source": [
        "z = 3 + 26j\n",
        "zPolar = complexToPolar(z)\n",
        "print(zPolar)"
      ],
      "execution_count": 0,
      "outputs": [
        {
          "output_type": "stream",
          "text": [
            "[26.1725046566048, 1.4559197213779975]\n"
          ],
          "name": "stdout"
        }
      ]
    },
    {
      "metadata": {
        "id": "lfGWOqj2dnYn",
        "colab_type": "text"
      },
      "cell_type": "markdown",
      "source": [
        "Similarmente, podemos usar nuestra identidad de Euler para obtener la reprentación explícita de un número a partir de su representación polar:"
      ]
    },
    {
      "metadata": {
        "id": "AkKpgBD-dnYt",
        "colab_type": "code",
        "colab": {}
      },
      "cell_type": "code",
      "source": [
        "def polarToComplex(input):\n",
        "    r = input[0]\n",
        "    theta = input[1]\n",
        "    z = r*eulerIdentity(theta*1j)\n",
        "    return z"
      ],
      "execution_count": 0,
      "outputs": []
    },
    {
      "metadata": {
        "id": "-LMduQNAdnYz",
        "colab_type": "code",
        "outputId": "4ec3bbd0-736f-463b-c06f-5c8d45cd717c",
        "colab": {
          "base_uri": "https://localhost:8080/",
          "height": 35
        }
      },
      "cell_type": "code",
      "source": [
        "z = polarToComplex(zPolar)\n",
        "printComplex(z)"
      ],
      "execution_count": 0,
      "outputs": [
        {
          "output_type": "stream",
          "text": [
            "3.0  +  26.0 j\n"
          ],
          "name": "stdout"
        }
      ]
    },
    {
      "metadata": {
        "id": "x6crGyeKdnY-",
        "colab_type": "text"
      },
      "cell_type": "markdown",
      "source": [
        "Grafiquemos ahora un número complejo en ambas representaciones:"
      ]
    },
    {
      "metadata": {
        "id": "Yz0Mh1VqdnY_",
        "colab_type": "code",
        "colab": {}
      },
      "cell_type": "code",
      "source": [
        "def polarPlot( input ):\n",
        "    r = input[0]\n",
        "    theta = input[1]\n",
        "    plt.figure(figsize=(7, 7), dpi=100, facecolor='w', edgecolor='k')\n",
        "    plt.polar([0,theta], [0,r], marker = 'o', color = 'r')\n",
        "    plt.grid(True)\n",
        "    plt.xlabel(\"eje real\", labelpad=20)\n",
        "    plt.ylabel(\"eje imaginario\", labelpad=40)\n",
        "    plt.show()\n",
        "    return None"
      ],
      "execution_count": 0,
      "outputs": []
    },
    {
      "metadata": {
        "id": "IbnjzJQsdnZE",
        "colab_type": "code",
        "outputId": "27cc9ff8-ab9d-4c47-b31f-049e0f89e841",
        "colab": {
          "base_uri": "https://localhost:8080/",
          "height": 660
        }
      },
      "cell_type": "code",
      "source": [
        "polarPlot(zPolar)"
      ],
      "execution_count": 0,
      "outputs": [
        {
          "output_type": "display_data",
          "data": {
            "image/png": "[encoded data removed]",
            "text/plain": [
              "<Figure size 700x700 with 1 Axes>"
            ]
          },
          "metadata": {
            "tags": []
          }
        }
      ]
    },
    {
      "metadata": {
        "id": "81HVNr2GdnZN",
        "colab_type": "code",
        "colab": {}
      },
      "cell_type": "code",
      "source": [
        "def complexPlot(z):\n",
        "    a = np.real(z)\n",
        "    b = np.imag(z)\n",
        "    plt.figure(figsize=(7, 7), dpi=100, facecolor='w', edgecolor='k')\n",
        "    plt.plot([0,a],[0,b], color='r')\n",
        "    plt.scatter(a,b, color='r')\n",
        "    plt.axhline(y=0, color='k')\n",
        "    plt.axvline(x=0, color='k')\n",
        "    plt.grid(True)\n",
        "    plt.ylim(-b - b/5, b + b/5)\n",
        "    plt.xlim(-a - a/5, a + a/5)\n",
        "    plt.xlabel(\"eje real\")\n",
        "    plt.ylabel(\"eje imaginario\")\n",
        "    plt.show()\n",
        "    return None"
      ],
      "execution_count": 0,
      "outputs": []
    },
    {
      "metadata": {
        "id": "VWnNUp21dnZQ",
        "colab_type": "code",
        "outputId": "b5bca07c-c520-4f73-c3af-f1ffc269d1cd",
        "colab": {
          "base_uri": "https://localhost:8080/",
          "height": 608
        }
      },
      "cell_type": "code",
      "source": [
        "complexPlot(z)"
      ],
      "execution_count": 0,
      "outputs": [
        {
          "output_type": "display_data",
          "data": {
            "image/png": "[encoded data removed]",
            "text/plain": [
              "<Figure size 700x700 with 1 Axes>"
            ]
          },
          "metadata": {
            "tags": []
          }
        }
      ]
    },
    {
      "metadata": {
        "id": "71RZqOc4eE-R",
        "colab_type": "code",
        "colab": {}
      },
      "cell_type": "code",
      "source": [
        ""
      ],
      "execution_count": 0,
      "outputs": []
    }
  ]
}